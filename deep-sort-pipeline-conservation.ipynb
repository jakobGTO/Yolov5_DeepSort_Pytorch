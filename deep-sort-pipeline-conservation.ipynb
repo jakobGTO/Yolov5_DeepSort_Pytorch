{
 "cells": [
  {
   "cell_type": "code",
   "execution_count": 1,
   "id": "aa8a4860",
   "metadata": {},
   "outputs": [],
   "source": [
    "import numpy as np\n",
    "import subprocess\n",
    "import os\n",
    "import shutil\n",
    "import numpy as np\n",
    "\n",
    "import motmetrics as mm"
   ]
  },
  {
   "cell_type": "code",
   "execution_count": null,
   "id": "9b5e2f7b",
   "metadata": {},
   "outputs": [],
   "source": [
    "#% python conservation-to-MOT.py"
   ]
  },
  {
   "cell_type": "code",
   "execution_count": null,
   "id": "5c7cc5f3",
   "metadata": {},
   "outputs": [],
   "source": [
    "# Evaluate the specific tracker, edit which model and which sequences to evaluate within the file\n",
    "# The evaluated sequence files lies in the evaluated_sequences folder"
   ]
  },
  {
   "cell_type": "code",
   "execution_count": null,
   "id": "1b0c44fd",
   "metadata": {},
   "outputs": [],
   "source": [
    "# How to use your own re-id model:\n",
    "# Train it using torchreid, place the model in Yolov5_DeepSort_Pytorch/deep_sort/deep/checkpoint/model_name.pth\n",
    "# Also add it to trained_urls in Yolov5_DeepSort_Pytorch/deep_sort/deep/reid_model_factory.py"
   ]
  },
  {
   "cell_type": "code",
   "execution_count": null,
   "id": "8f325774",
   "metadata": {},
   "outputs": [],
   "source": [
    "# Get MOT metrics for evaluated trackers\n",
    "\n",
    "# Fix structure of dataset in TrackEval/data/mot_challenge/gt and trackers according to \n",
    "# https://github.com/JonathonLuiten/TrackEval/tree/master/docs/MOTChallenge-Official\n",
    "# example in /gt/visdrone-train and /trackers/"
   ]
  },
  {
   "cell_type": "code",
   "execution_count": 22,
   "id": "2d590043",
   "metadata": {},
   "outputs": [],
   "source": [
    "data_dir = 'D:/thesis-data/ConservationDrones-MOT/images/'\n",
    "yolo_model = 'conservationdronesmodel.pt'\n",
    "os.mkdir('conservation-evaluated-market')\n",
    "save_to = 'conservation-evaluated-market/'\n",
    "\n",
    "deep_sort_model = 'resnet50_market1501'\n",
    "#deep_sort_model = 'resnet50_jakob'\n",
    "sequences = os.listdir(data_dir)\n",
    "shutil.rmtree('evaluated_sequences')\n",
    "os.mkdir('evaluated_sequences')\n",
    "\n",
    "# loop across all test sequences \n",
    "for i,seq in enumerate(sequences):\n",
    "    childproc = subprocess.Popen('python track.py --source ' + data_dir + seq + \\\n",
    "                                 ' --yolo_model ' + yolo_model + \\\n",
    "                                 ' --deep_sort_model ' + deep_sort_model + \\\n",
    "                                 ' --project evaluated_sequences/ --name \"sequence\" --save-txt')\n",
    "    childproc.wait()\n",
    "    \n",
    "    try:\n",
    "        folders = os.listdir('evaluated_sequences/')\n",
    "        shutil.move(\"evaluated_sequences/\" + folders[i] + \"/\" + str(seq) + \".txt\",\n",
    "                    \"evaluated_sequences/\")\n",
    "        shutil.rmtree(\"evaluated_sequences/\" + folders[i])\n",
    "        pred = np.loadtxt(\"evaluated_sequences/\" + str(seq) + \".txt\", dtype=int)\n",
    "        np.savetxt(save_to + \"seq\" + str(i+1) + \".txt\", pred.astype(float), fmt =\"%.0f\", delimiter=\",\")\n",
    "    except:\n",
    "        continue"
   ]
  },
  {
   "cell_type": "code",
   "execution_count": 21,
   "id": "46cf7ecb",
   "metadata": {
    "scrolled": true
   },
   "outputs": [
    {
     "name": "stdout",
     "output_type": "stream",
     "text": [
      "\n",
      "Eval Config:\n",
      "USE_PARALLEL         : False                         \n",
      "NUM_PARALLEL_CORES   : 8                             \n",
      "BREAK_ON_ERROR       : True                          \n",
      "RETURN_ON_ERROR      : False                         \n",
      "LOG_ON_ERROR         : C:\\Users\\Jakob\\OneDrive\\Skrivbord\\Github\\Thesis-2022\\deep-sort\\TrackEval\\error_log.txt\n",
      "PRINT_RESULTS        : True                          \n",
      "PRINT_ONLY_COMBINED  : False                         \n",
      "PRINT_CONFIG         : True                          \n",
      "TIME_PROGRESS        : True                          \n",
      "DISPLAY_LESS_PROGRESS : False                         \n",
      "OUTPUT_SUMMARY       : True                          \n",
      "OUTPUT_EMPTY_CLASSES : True                          \n",
      "OUTPUT_DETAILED      : True                          \n",
      "PLOT_CURVES          : True                          \n",
      "\n",
      "MotChallenge2DBox Config:\n",
      "PRINT_CONFIG         : True                          \n",
      "GT_FOLDER            : C:\\Users\\Jakob\\OneDrive\\Skrivbord\\Github\\Thesis-2022\\deep-sort\\TrackEval\\data/gt/mot_challenge/\n",
      "TRACKERS_FOLDER      : C:\\Users\\Jakob\\OneDrive\\Skrivbord\\Github\\Thesis-2022\\deep-sort\\TrackEval\\data/trackers/mot_challenge/\n",
      "OUTPUT_FOLDER        : None                          \n",
      "TRACKERS_TO_EVAL     : None                          \n",
      "CLASSES_TO_EVAL      : ['pedestrian']                \n",
      "BENCHMARK            : conservation                  \n",
      "SPLIT_TO_EVAL        : train                         \n",
      "INPUT_AS_ZIP         : False                         \n",
      "DO_PREPROC           : False                         \n",
      "TRACKER_SUB_FOLDER   : data                          \n",
      "OUTPUT_SUB_FOLDER    :                               \n",
      "TRACKER_DISPLAY_NAMES : None                          \n",
      "SEQMAP_FOLDER        : None                          \n",
      "SEQMAP_FILE          : None                          \n",
      "SEQ_INFO             : None                          \n",
      "GT_LOC_FORMAT        : {gt_folder}/{seq}/gt/gt.txt   \n",
      "SKIP_SPLIT_FOL       : False                         \n",
      "C:\\Users\\Jakob\\OneDrive\\Skrivbord\\Github\\Thesis-2022\\deep-sort\\TrackEval\\data/gt/mot_challenge/conservation-train\\seq1\\seqinfo.ini\n",
      "C:\\Users\\Jakob\\OneDrive\\Skrivbord\\Github\\Thesis-2022\\deep-sort\\TrackEval\\data/gt/mot_challenge/conservation-train\\seq2\\seqinfo.ini\n",
      "C:\\Users\\Jakob\\OneDrive\\Skrivbord\\Github\\Thesis-2022\\deep-sort\\TrackEval\\data/gt/mot_challenge/conservation-train\\seq3\\seqinfo.ini\n",
      "C:\\Users\\Jakob\\OneDrive\\Skrivbord\\Github\\Thesis-2022\\deep-sort\\TrackEval\\data/gt/mot_challenge/conservation-train\\seq4\\seqinfo.ini\n",
      "C:\\Users\\Jakob\\OneDrive\\Skrivbord\\Github\\Thesis-2022\\deep-sort\\TrackEval\\data/trackers/mot_challenge/conservation-train\\seq1\\data\\seq1.txt\n",
      "C:\\Users\\Jakob\\OneDrive\\Skrivbord\\Github\\Thesis-2022\\deep-sort\\TrackEval\\data/trackers/mot_challenge/conservation-train\\seq1\\data\\seq2.txt\n",
      "C:\\Users\\Jakob\\OneDrive\\Skrivbord\\Github\\Thesis-2022\\deep-sort\\TrackEval\\data/trackers/mot_challenge/conservation-train\\seq1\\data\\seq3.txt\n",
      "C:\\Users\\Jakob\\OneDrive\\Skrivbord\\Github\\Thesis-2022\\deep-sort\\TrackEval\\data/trackers/mot_challenge/conservation-train\\seq1\\data\\seq4.txt\n",
      "\n",
      "CLEAR Config:\n",
      "METRICS              : ['HOTA', 'CLEAR', 'Identity'] \n",
      "THRESHOLD            : 0.5                           \n",
      "PRINT_CONFIG         : True                          \n",
      "\n",
      "Identity Config:\n",
      "METRICS              : ['HOTA', 'CLEAR', 'Identity'] \n",
      "THRESHOLD            : 0.5                           \n",
      "PRINT_CONFIG         : True                          \n",
      "\n",
      "Evaluating 1 tracker(s) on 4 sequence(s) for 1 class(es) on MotChallenge2DBox dataset using the following metrics: HOTA, CLEAR, Identity, Count\n",
      "\n",
      "\n",
      "Evaluating seq1\n",
      "\n",
      "    MotChallenge2DBox.get_raw_seq_data(seq1, seq1)                         0.0501 sec\n",
      "    MotChallenge2DBox.get_preprocessed_seq_data(pedestrian)                0.0687 sec\n",
      "    HOTA.eval_sequence()                                                   0.0387 sec\n",
      "    CLEAR.eval_sequence()                                                  0.0070 sec\n",
      "    Identity.eval_sequence()                                               0.0119 sec\n",
      "    Count.eval_sequence()                                                  0.0000 sec\n",
      "4 eval_sequence(seq1, seq1)                                              0.1782 sec\n",
      "    MotChallenge2DBox.get_raw_seq_data(seq1, seq2)                         0.0124 sec\n",
      "    MotChallenge2DBox.get_preprocessed_seq_data(pedestrian)                0.0170 sec\n",
      "    HOTA.eval_sequence()                                                   0.0087 sec\n",
      "    CLEAR.eval_sequence()                                                  0.0013 sec\n",
      "    Identity.eval_sequence()                                               0.0033 sec\n",
      "    Count.eval_sequence()                                                  0.0000 sec\n",
      "5 eval_sequence(seq2, seq1)                                              0.0436 sec\n",
      "    MotChallenge2DBox.get_raw_seq_data(seq1, seq3)                         0.0163 sec\n",
      "    MotChallenge2DBox.get_preprocessed_seq_data(pedestrian)                0.0259 sec\n",
      "    HOTA.eval_sequence()                                                   0.0134 sec\n",
      "    CLEAR.eval_sequence()                                                  0.0026 sec\n",
      "    Identity.eval_sequence()                                               0.0051 sec\n",
      "    Count.eval_sequence()                                                  0.0000 sec\n",
      "6 eval_sequence(seq3, seq1)                                              0.0644 sec\n",
      "    MotChallenge2DBox.get_raw_seq_data(seq1, seq4)                         0.0497 sec\n",
      "    MotChallenge2DBox.get_preprocessed_seq_data(pedestrian)                0.0660 sec\n",
      "    HOTA.eval_sequence()                                                   0.0343 sec\n",
      "    CLEAR.eval_sequence()                                                  0.0064 sec\n",
      "    Identity.eval_sequence()                                               0.0114 sec\n",
      "    Count.eval_sequence()                                                  0.0000 sec\n",
      "7 eval_sequence(seq4, seq1)                                              0.1695 sec\n",
      "\n",
      "All sequences for seq1 finished in 0.46 seconds\n",
      "\n",
      "HOTA: seq1-pedestrian              HOTA      DetA      AssA      DetRe     DetPr     AssRe     AssPr     LocA      RHOTA     HOTA(0)   LocA(0)   HOTALocA(0)\n",
      "seq1                               0.88867   1.1316    0.74169   1.1583    27.521    0.74502   63.002    68.643    0.89981   1.6066    44.22     0.71042   \n",
      "seq2                               0.43223   0.24442   0.76435   0.25491   5.2632    0.76473   44.737    73.969    0.44141   0.96649   44.896    0.43391   \n",
      "seq3                               0.65733   0.95221   0.46257   0.95694   21.053    0.46352   23.224    79.887    0.65932   2.9826    22.291    0.66483   \n",
      "seq4                               0.048911  0.0095451 0.25063   0.0098709 0.28604   0.25063   26.316    81.41     0.049738  0.18586   29.358    0.054565  \n",
      "COMBINED                           0.60093   0.49021   0.78761   0.50497   13.003    0.79089   63.602    67.334    0.61016   1.2149    40.09     0.48706   \n",
      "\n",
      "CLEAR: seq1-pedestrian             MOTA      MOTP      MODA      CLR_Re    CLR_Pr    MTR       PTR       MLR       sMOTA     CLR_TP    CLR_FN    CLR_FP    IDSW      MT        PT        ML        Frag      \n",
      "seq1                               -2.5355   67.664    -2.1805   1.0142    24.096    0         0         100       -2.8634   20        1952      63        7         0         0         8         5         \n",
      "seq2                               -4.8433   0         -4.8433   0         0         0         0         100       -4.8433   0         351       17        0         0         0         3         0         \n",
      "seq3                               -4.5455   0         -4.5455   0         0         0         0         100       -4.5455   0         264       12        0         0         0         1         0         \n",
      "seq4                               -3.4509   0         -3.4509   0         0         0         0         100       -3.4509   0         2666      92        0         0         0         12        0         \n",
      "COMBINED                           -3.2553   67.664    -3.122    0.38073   9.8039    0         0         100       -3.3784   20        5233      184       7         0         0         24        5         \n",
      "\n",
      "Identity: seq1-pedestrian          IDF1      IDR       IDP       IDTP      IDFN      IDFP      \n",
      "seq1                               0.68127   0.35497   8.4337    7         1965      76        \n",
      "seq2                               0         0         0         0         351       17        \n",
      "seq3                               0         0         0         0         264       12        \n",
      "seq4                               0         0         0         0         2666      92        \n",
      "COMBINED                           0.25655   0.13326   3.4314    7         5246      197       \n",
      "\n",
      "Count: seq1-pedestrian             Dets      GT_Dets   IDs       GT_IDs    \n",
      "seq1                               83        1972      34        8         \n",
      "seq2                               17        351       6         3         \n",
      "seq3                               12        264       3         1         \n",
      "seq4                               92        2666      19        12        \n",
      "COMBINED                           204       5253      62        24        \n"
     ]
    },
    {
     "name": "stdout",
     "output_type": "stream",
     "text": [
      "\n",
      "Timing analysis:\n",
      "MotChallenge2DBox.get_raw_seq_data                                     0.2766 sec\n",
      "MotChallenge2DBox.get_preprocessed_seq_data                            0.3795 sec\n",
      "HOTA.eval_sequence                                                     0.2021 sec\n",
      "CLEAR.eval_sequence                                                    0.0379 sec\n",
      "Identity.eval_sequence                                                 0.0652 sec\n",
      "Count.eval_sequence                                                    0.0000 sec\n",
      "eval_sequence                                                          0.9718 sec\n",
      "Evaluator.evaluate                                                     2.1313 sec\n"
     ]
    },
    {
     "data": {
      "text/plain": [
       "<Figure size 432x288 with 0 Axes>"
      ]
     },
     "metadata": {},
     "output_type": "display_data"
    }
   ],
   "source": [
    "%run -i ../TrackEval/scripts/run_mot_challenge.py --BENCHMARK conservation --DO_PREPROC False"
   ]
  }
 ],
 "metadata": {
  "kernelspec": {
   "display_name": "Python 3",
   "language": "python",
   "name": "python3"
  },
  "language_info": {
   "codemirror_mode": {
    "name": "ipython",
    "version": 3
   },
   "file_extension": ".py",
   "mimetype": "text/x-python",
   "name": "python",
   "nbconvert_exporter": "python",
   "pygments_lexer": "ipython3",
   "version": "3.8.7"
  }
 },
 "nbformat": 4,
 "nbformat_minor": 5
}
